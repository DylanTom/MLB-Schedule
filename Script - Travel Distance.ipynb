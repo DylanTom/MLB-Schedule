{
 "metadata": {
  "language_info": {
   "codemirror_mode": {
    "name": "ipython",
    "version": 3
   },
   "file_extension": ".py",
   "mimetype": "text/x-python",
   "name": "python",
   "nbconvert_exporter": "python",
   "pygments_lexer": "ipython3",
   "version": "3.9.4"
  },
  "orig_nbformat": 2,
  "kernelspec": {
   "name": "python394jvsc74a57bd0e2f7dd5b4f28905b0fdfb50d14b58221d7441653e8a72bb7ebd208ea3da171fe",
   "display_name": "Python 3.9.4 64-bit ('datascience': conda)"
  },
  "metadata": {
   "interpreter": {
    "hash": "e2f7dd5b4f28905b0fdfb50d14b58221d7441653e8a72bb7ebd208ea3da171fe"
   }
  }
 },
 "nbformat": 4,
 "nbformat_minor": 2,
 "cells": [
  {
   "cell_type": "code",
   "execution_count": 1,
   "metadata": {},
   "outputs": [],
   "source": [
    "from geopy import distance\n",
    "import pandas as pd\n",
    "import numpy as np\n",
    "import os"
   ]
  },
  {
   "cell_type": "code",
   "execution_count": 2,
   "metadata": {},
   "outputs": [],
   "source": [
    "cwd = os.getcwd()"
   ]
  },
  {
   "cell_type": "code",
   "execution_count": 3,
   "metadata": {},
   "outputs": [
    {
     "output_type": "execute_result",
     "data": {
      "text/plain": [
       "  Team  Longitude   Latitude                            Coordinates\n",
       "0  BAL -76.621667  39.283889  (39.2838888888889, -76.6216666666667)\n",
       "1  BOS -71.097500  42.346389           (42.3463888888889, -71.0975)\n",
       "2  NYY -73.926389  40.829167  (40.8291666666667, -73.9263888888889)\n",
       "3   TB -82.653333  27.768333  (27.7683333333333, -82.6533333333333)\n",
       "4  TOR -79.389167  43.641389  (43.6413888888889, -79.3891666666667)"
      ],
      "text/html": "<div>\n<style scoped>\n    .dataframe tbody tr th:only-of-type {\n        vertical-align: middle;\n    }\n\n    .dataframe tbody tr th {\n        vertical-align: top;\n    }\n\n    .dataframe thead th {\n        text-align: right;\n    }\n</style>\n<table border=\"1\" class=\"dataframe\">\n  <thead>\n    <tr style=\"text-align: right;\">\n      <th></th>\n      <th>Team</th>\n      <th>Longitude</th>\n      <th>Latitude</th>\n      <th>Coordinates</th>\n    </tr>\n  </thead>\n  <tbody>\n    <tr>\n      <th>0</th>\n      <td>BAL</td>\n      <td>-76.621667</td>\n      <td>39.283889</td>\n      <td>(39.2838888888889, -76.6216666666667)</td>\n    </tr>\n    <tr>\n      <th>1</th>\n      <td>BOS</td>\n      <td>-71.097500</td>\n      <td>42.346389</td>\n      <td>(42.3463888888889, -71.0975)</td>\n    </tr>\n    <tr>\n      <th>2</th>\n      <td>NYY</td>\n      <td>-73.926389</td>\n      <td>40.829167</td>\n      <td>(40.8291666666667, -73.9263888888889)</td>\n    </tr>\n    <tr>\n      <th>3</th>\n      <td>TB</td>\n      <td>-82.653333</td>\n      <td>27.768333</td>\n      <td>(27.7683333333333, -82.6533333333333)</td>\n    </tr>\n    <tr>\n      <th>4</th>\n      <td>TOR</td>\n      <td>-79.389167</td>\n      <td>43.641389</td>\n      <td>(43.6413888888889, -79.3891666666667)</td>\n    </tr>\n  </tbody>\n</table>\n</div>"
     },
     "metadata": {},
     "execution_count": 3
    }
   ],
   "source": [
    "df = pd.read_excel(cwd+ '/Data/Data - latlong.xlsx', engine='openpyxl', sheet_name = 1)\n",
    "df = df[['Team', 'Longitude', 'Latitude']]\n",
    "df['Coordinates'] = list(zip(df.Latitude, df.Longitude))\n",
    "df.head()"
   ]
  },
  {
   "cell_type": "code",
   "execution_count": 4,
   "metadata": {},
   "outputs": [],
   "source": [
    "square = pd.DataFrame(np.zeros((df.shape[0],df.shape[0])), index = df.index, columns = df.index)"
   ]
  },
  {
   "cell_type": "code",
   "execution_count": 5,
   "metadata": {},
   "outputs": [],
   "source": [
    "def get_distance(col):\n",
    "    end = df.loc[col.name, 'Coordinates']\n",
    "    return df['Coordinates'].apply(distance.distance, args=(end,), ellipsoid = 'WGS-84')"
   ]
  },
  {
   "cell_type": "code",
   "execution_count": 6,
   "metadata": {},
   "outputs": [],
   "source": [
    "distances = square.apply(get_distance, axis=1).T"
   ]
  },
  {
   "cell_type": "code",
   "execution_count": 7,
   "metadata": {},
   "outputs": [],
   "source": [
    "def units(input):\n",
    "    return input.miles"
   ]
  },
  {
   "cell_type": "code",
   "execution_count": 8,
   "metadata": {},
   "outputs": [],
   "source": [
    "distanceMiles = distances.applymap(units)\n",
    "distanceMiles = distanceMiles.set_axis(df['Team'].tolist(), axis = 'index')\n",
    "distanceMiles = distanceMiles.set_axis(df['Team'].tolist(), axis = 1)"
   ]
  },
  {
   "cell_type": "code",
   "execution_count": 9,
   "metadata": {},
   "outputs": [],
   "source": [
    "distanceMiles.to_csv(cwd + '/Data/Data - Travel.csv', index = True, header=True)"
   ]
  }
 ]
}